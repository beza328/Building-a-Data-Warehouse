{
 "cells": [
  {
   "cell_type": "code",
   "execution_count": 5,
   "metadata": {},
   "outputs": [
    {
     "name": "stderr",
     "output_type": "stream",
     "text": [
      "Using cache found in C:\\Users\\BEZA/.cache\\torch\\hub\\ultralytics_yolov5_master\n"
     ]
    },
    {
     "ename": "SyntaxError",
     "evalue": "source code string cannot contain null bytes (<string>)",
     "output_type": "error",
     "traceback": [
      "Traceback \u001b[1;36m(most recent call last)\u001b[0m:\n",
      "\u001b[0m  File \u001b[0;32mc:\\Users\\BEZA\\Desktop\\wek7\\Building-a-Data-Warehouse\\.venv\\Lib\\site-packages\\IPython\\core\\interactiveshell.py:3577\u001b[0m in \u001b[0;35mrun_code\u001b[0m\n    exec(code_obj, self.user_global_ns, self.user_ns)\u001b[0m\n",
      "\u001b[0m  Cell \u001b[0;32mIn[5], line 9\u001b[0m\n    model = torch.hub.load('ultralytics/yolov5', 'yolov5s')\u001b[0m\n",
      "\u001b[0m  File \u001b[0;32mc:\\Users\\BEZA\\Desktop\\wek7\\Building-a-Data-Warehouse\\.venv\\Lib\\site-packages\\torch\\hub.py:647\u001b[0m in \u001b[0;35mload\u001b[0m\n    model = _load_local(repo_or_dir, model, *args, **kwargs)\u001b[0m\n",
      "\u001b[0m  File \u001b[0;32mc:\\Users\\BEZA\\Desktop\\wek7\\Building-a-Data-Warehouse\\.venv\\Lib\\site-packages\\torch\\hub.py:676\u001b[0m in \u001b[0;35m_load_local\u001b[0m\n    model = entry(*args, **kwargs)\u001b[0m\n",
      "\u001b[0m  File \u001b[0;32m~/.cache\\torch\\hub\\ultralytics_yolov5_master\\hubconf.py:215\u001b[0m in \u001b[0;35myolov5s\u001b[0m\n    return _create(\"yolov5s\", pretrained, channels, classes, autoshape, _verbose, device)\u001b[0m\n",
      "\u001b[0m  File \u001b[0;32m~/.cache\\torch\\hub\\ultralytics_yolov5_master\\hubconf.py:56\u001b[0m in \u001b[0;35m_create\u001b[0m\n    from models.yolo import ClassificationModel, DetectionModel, SegmentationModel\u001b[0m\n",
      "\u001b[0m  File \u001b[0;32m~/.cache\\torch\\hub\\ultralytics_yolov5_master\\models\\yolo.py:55\u001b[0m\n    from utils.plots import feature_visualization\u001b[0m\n",
      "\u001b[0m  File \u001b[0;32m~/.cache\\torch\\hub\\ultralytics_yolov5_master\\utils\\plots.py:15\u001b[0m\n    import seaborn as sn\u001b[0m\n",
      "\u001b[0m  File \u001b[0;32mc:\\Users\\BEZA\\Desktop\\wek7\\Building-a-Data-Warehouse\\.venv\\Lib\\site-packages\\seaborn\\__init__.py:5\u001b[0m\n    from .relational import *  # noqa: F401,F403\u001b[0m\n",
      "\u001b[0m  File \u001b[0;32mc:\\Users\\BEZA\\Desktop\\wek7\\Building-a-Data-Warehouse\\.venv\\Lib\\site-packages\\seaborn\\relational.py:21\u001b[0m\n    from ._statistics import EstimateAggregator, WeightedAggregator\u001b[0m\n",
      "\u001b[0m  File \u001b[0;32mc:\\Users\\BEZA\\Desktop\\wek7\\Building-a-Data-Warehouse\\.venv\\Lib\\site-packages\\seaborn\\_statistics.py:32\u001b[0m\n    from scipy.stats import gaussian_kde\u001b[0m\n",
      "\u001b[1;36m  File \u001b[1;32mc:\\Users\\BEZA\\Desktop\\wek7\\Building-a-Data-Warehouse\\.venv\\Lib\\site-packages\\scipy\\__init__.py:80\u001b[1;36m\n\u001b[1;33m    from scipy._lib import _pep440\u001b[1;36m\n",
      "\u001b[1;36m  File \u001b[1;32m<string>\u001b[1;36m\u001b[0m\n\u001b[1;31mSyntaxError\u001b[0m\u001b[1;31m:\u001b[0m source code string cannot contain null bytes\n"
     ]
    }
   ],
   "source": [
    "import os\n",
    "import sys\n",
    "import torch\n",
    "import cv2\n",
    "\n",
    "\n",
    "\n",
    "# Load pre-trained YOLOv5 model (you can switch between 'yolov5s', 'yolov5m', 'yolov5l', or 'yolov5x')\n",
    "model = torch.hub.load('ultralytics/yolov5', 'yolov5s')\n",
    "\n",
    "# Path to the directory containing the images from the Chemed Telegram Channel\n",
    "image_folder = 'processed_images'\n",
    "\n",
    "# Path to the directory where detection results will be saved\n",
    "output_folder = 'detection_results'\n",
    "\n",
    "# Create the output folder if it doesn't exist\n",
    "if not os.path.exists(output_folder):\n",
    "    os.makedirs(output_folder)\n",
    "\n",
    "# Loop through the images in the folder and run object detection\n",
    "for img_name in os.listdir(image_folder):\n",
    "    img_path = os.path.join(image_folder, img_name)\n",
    "\n",
    "    # Read the image using OpenCV\n",
    "    img = cv2.imread(img_path)\n",
    "\n",
    "    # Run object detection\n",
    "    results = model(img)\n",
    "\n",
    "    # Show the results (optional)\n",
    "    results.show()\n",
    "\n",
    "    # Ensure results are saved inside the specified output folder\n",
    "    # results.save() saves the images in a subfolder like 'exp' by default, so we will move them after detection\n",
    "    save_path = os.path.join(output_folder, img_name)\n",
    "    results.save(save_dir=output_folder)\n",
    "\n",
    "    print(f\"Detection results for {img_name} saved to {output_folder}\")\n"
   ]
  },
  {
   "cell_type": "code",
   "execution_count": null,
   "metadata": {},
   "outputs": [],
   "source": []
  }
 ],
 "metadata": {
  "kernelspec": {
   "display_name": ".venv",
   "language": "python",
   "name": "python3"
  },
  "language_info": {
   "codemirror_mode": {
    "name": "ipython",
    "version": 3
   },
   "file_extension": ".py",
   "mimetype": "text/x-python",
   "name": "python",
   "nbconvert_exporter": "python",
   "pygments_lexer": "ipython3",
   "version": "3.12.7"
  }
 },
 "nbformat": 4,
 "nbformat_minor": 2
}
